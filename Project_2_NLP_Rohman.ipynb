{
  "nbformat": 4,
  "nbformat_minor": 0,
  "metadata": {
    "colab": {
      "name": "Project_2_NLP.ipynb",
      "provenance": [],
      "include_colab_link": true
    },
    "kernelspec": {
      "name": "python3",
      "display_name": "Python 3"
    },
    "language_info": {
      "name": "python"
    },
    "accelerator": "GPU"
  },
  "cells": [
    {
      "cell_type": "markdown",
      "metadata": {
        "id": "view-in-github",
        "colab_type": "text"
      },
      "source": [
        "<a href=\"https://colab.research.google.com/github/EthanRohman/CS167-Project-2/blob/main/Project_2_NLP_Rohman.ipynb\" target=\"_parent\"><img src=\"https://colab.research.google.com/assets/colab-badge.svg\" alt=\"Open In Colab\"/></a>"
      ]
    },
    {
      "cell_type": "markdown",
      "metadata": {
        "id": "vu0Kz0Nq4ui4"
      },
      "source": [
        "# Project \\#2 Starter Code\n",
        "Your project should address the categories below. \n",
        "\n",
        "Name: Ethan Rohman\n",
        "Date: December 10, 2021\n",
        "\n",
        "## Problem:\n",
        "\n",
        "The problem I am trying to solve with this machine learning experiment is to determine the sentiment of a movie review. The data used for this experiment contains the text from the movie review and whether it is a positive review or a negative one. The goal of these machine learning models is to predict the sentiment of the review based on the text of the review. A machine learning model that uses language to predict some things or to generate more language."
      ]
    },
    {
      "cell_type": "markdown",
      "metadata": {
        "id": "NBZAVjcWhgBV"
      },
      "source": [
        "# Input Pipeline (sklearn):"
      ]
    },
    {
      "cell_type": "code",
      "metadata": {
        "colab": {
          "base_uri": "https://localhost:8080/",
          "height": 224
        },
        "id": "12XGv2fIfTSr",
        "outputId": "7ad58ada-96ec-4a2b-b039-8d2389deac48"
      },
      "source": [
        "from google.colab import drive\n",
        "import pandas\n",
        "drive.mount('/content/drive')\n",
        "data = pandas.read_csv('/content/drive/MyDrive/IMDB_dataset.csv')\n",
        "data.head()"
      ],
      "execution_count": 1,
      "outputs": [
        {
          "output_type": "stream",
          "name": "stdout",
          "text": [
            "Mounted at /content/drive\n"
          ]
        },
        {
          "output_type": "execute_result",
          "data": {
            "text/html": [
              "<div>\n",
              "<style scoped>\n",
              "    .dataframe tbody tr th:only-of-type {\n",
              "        vertical-align: middle;\n",
              "    }\n",
              "\n",
              "    .dataframe tbody tr th {\n",
              "        vertical-align: top;\n",
              "    }\n",
              "\n",
              "    .dataframe thead th {\n",
              "        text-align: right;\n",
              "    }\n",
              "</style>\n",
              "<table border=\"1\" class=\"dataframe\">\n",
              "  <thead>\n",
              "    <tr style=\"text-align: right;\">\n",
              "      <th></th>\n",
              "      <th>review</th>\n",
              "      <th>sentiment</th>\n",
              "    </tr>\n",
              "  </thead>\n",
              "  <tbody>\n",
              "    <tr>\n",
              "      <th>0</th>\n",
              "      <td>One of the other reviewers has mentioned that ...</td>\n",
              "      <td>positive</td>\n",
              "    </tr>\n",
              "    <tr>\n",
              "      <th>1</th>\n",
              "      <td>A wonderful little production. &lt;br /&gt;&lt;br /&gt;The...</td>\n",
              "      <td>positive</td>\n",
              "    </tr>\n",
              "    <tr>\n",
              "      <th>2</th>\n",
              "      <td>I thought this was a wonderful way to spend ti...</td>\n",
              "      <td>positive</td>\n",
              "    </tr>\n",
              "    <tr>\n",
              "      <th>3</th>\n",
              "      <td>Basically there's a family where a little boy ...</td>\n",
              "      <td>negative</td>\n",
              "    </tr>\n",
              "    <tr>\n",
              "      <th>4</th>\n",
              "      <td>Petter Mattei's \"Love in the Time of Money\" is...</td>\n",
              "      <td>positive</td>\n",
              "    </tr>\n",
              "  </tbody>\n",
              "</table>\n",
              "</div>"
            ],
            "text/plain": [
              "                                              review sentiment\n",
              "0  One of the other reviewers has mentioned that ...  positive\n",
              "1  A wonderful little production. <br /><br />The...  positive\n",
              "2  I thought this was a wonderful way to spend ti...  positive\n",
              "3  Basically there's a family where a little boy ...  negative\n",
              "4  Petter Mattei's \"Love in the Time of Money\" is...  positive"
            ]
          },
          "metadata": {},
          "execution_count": 1
        }
      ]
    },
    {
      "cell_type": "markdown",
      "metadata": {
        "id": "ICUC-PvQ5bP2"
      },
      "source": [
        "## Data Exploration:\n",
        "- Number of samples\n",
        "- Number of classes of the target variable\n",
        "- Number of words per sample\n",
        "- Distribution of sample length\n",
        "- Something else: get creative :) "
      ]
    },
    {
      "cell_type": "code",
      "metadata": {
        "id": "9kkCmgdf5ZqB",
        "colab": {
          "base_uri": "https://localhost:8080/"
        },
        "outputId": "8c55b3e8-24b0-41b9-a6d9-b699e5b359e5"
      },
      "source": [
        "#Number of Samples\n",
        "data.shape"
      ],
      "execution_count": 2,
      "outputs": [
        {
          "output_type": "execute_result",
          "data": {
            "text/plain": [
              "(50000, 2)"
            ]
          },
          "metadata": {},
          "execution_count": 2
        }
      ]
    },
    {
      "cell_type": "code",
      "source": [
        "#Number of Classes of the Target Variable\n",
        "data[\"sentiment\"].drop_duplicates().values "
      ],
      "metadata": {
        "colab": {
          "base_uri": "https://localhost:8080/"
        },
        "id": "bXqn6ZYrQbHu",
        "outputId": "9134c852-ec6e-4f12-e4e4-0f409fbfcfb4"
      },
      "execution_count": 3,
      "outputs": [
        {
          "output_type": "execute_result",
          "data": {
            "text/plain": [
              "array(['positive', 'negative'], dtype=object)"
            ]
          },
          "metadata": {},
          "execution_count": 3
        }
      ]
    },
    {
      "cell_type": "code",
      "source": [
        "#Median number of words in one sample\n",
        "data['length'] = [len(r.split()) for r in data['review'].tolist()]\n",
        "data['length'].median()"
      ],
      "metadata": {
        "colab": {
          "base_uri": "https://localhost:8080/"
        },
        "id": "soLsAIaXYBKb",
        "outputId": "b1616025-4b2e-43ec-cbc6-9d6774bfcbd5"
      },
      "execution_count": 4,
      "outputs": [
        {
          "output_type": "execute_result",
          "data": {
            "text/plain": [
              "173.0"
            ]
          },
          "metadata": {},
          "execution_count": 4
        }
      ]
    },
    {
      "cell_type": "code",
      "source": [
        "#Distribution of sample length\n",
        "data['length'].hist()"
      ],
      "metadata": {
        "colab": {
          "base_uri": "https://localhost:8080/",
          "height": 282
        },
        "id": "9G65pKQ5rQR6",
        "outputId": "b0126ea9-f3b6-4533-882b-0c448e91a3cf"
      },
      "execution_count": 5,
      "outputs": [
        {
          "output_type": "execute_result",
          "data": {
            "text/plain": [
              "<matplotlib.axes._subplots.AxesSubplot at 0x7fcb93363690>"
            ]
          },
          "metadata": {},
          "execution_count": 5
        },
        {
          "output_type": "display_data",
          "data": {
            "image/png": "[encoded data removed]",
            "text/plain": [
              "<Figure size 432x288 with 1 Axes>"
            ]
          },
          "metadata": {
            "needs_background": "light"
          }
        }
      ]
    },
    {
      "cell_type": "code",
      "source": [
        "#Percentange of reviews over 1000 words that are positive\n",
        "review_over_1000 = data[data['length']>1000]\n",
        "percentage = (review_over_1000[review_over_1000['sentiment']=='positive'].shape[0]/review_over_1000.shape[0]) *100\n",
        "print('Percentage of positive reviews over 1000 words:',percentage,\"%\")\n",
        "\n",
        "percent = (data[data['sentiment']=='positive'].shape[0]/data.shape[0]) *100\n",
        "print('percentage of positive reviews:', percent,\"%\")"
      ],
      "metadata": {
        "colab": {
          "base_uri": "https://localhost:8080/"
        },
        "id": "NGjJTTlF9dOE",
        "outputId": "c3202b9e-4c81-4d9f-d4bd-eda1f60b1165"
      },
      "execution_count": 7,
      "outputs": [
        {
          "output_type": "stream",
          "name": "stdout",
          "text": [
            "Percentage of positive reviews over 1000 words: 59.756097560975604 %\n",
            "percentage of positive reviews: 50.0 %\n"
          ]
        }
      ]
    },
    {
      "cell_type": "markdown",
      "source": [
        "- The total number of samples in the dataset is 50,000\n",
        "- The number of categories in the dataset is 2. Each review is either positive or negative. \n",
        "- The median number of words per sample is 173 words. \n",
        "- The histogram shows that the majority of reviews are 250 words or less. \n",
        "- When looking at the number of reviews over 1000 words there is a greater percentage of them that are positive than the dataset as a whole. "
      ],
      "metadata": {
        "id": "ICCBzEvsFgr4"
      }
    },
    {
      "cell_type": "markdown",
      "metadata": {
        "id": "ZSuguZ6u5lUl"
      },
      "source": [
        "## Data Preparation\n",
        "\n",
        "I'm providing you with code that cleans the reviews by making it all lowercase letters and removing stop words. The three cells below do this for you. I still want you to explain what you did with the data here. "
      ]
    },
    {
      "cell_type": "code",
      "metadata": {
        "colab": {
          "base_uri": "https://localhost:8080/"
        },
        "id": "YV4FfvLegTSh",
        "outputId": "a603278e-d839-4877-c693-1ad5a6e37885"
      },
      "source": [
        "from bs4 import BeautifulSoup\n",
        "import re\n",
        "import nltk\n",
        "#only do next line once\n",
        "nltk.download() #in Corpora tab, download stopwords\n",
        "from nltk.corpus import stopwords\n",
        "from sklearn.model_selection import train_test_split\n",
        "#The NLTK downloader will open, you need to select (d) for Download, and then 'stopwords'then (q) to quit"
      ],
      "execution_count": 8,
      "outputs": [
        {
          "name": "stdout",
          "output_type": "stream",
          "text": [
            "NLTK Downloader\n",
            "---------------------------------------------------------------------------\n",
            "    d) Download   l) List    u) Update   c) Config   h) Help   q) Quit\n",
            "---------------------------------------------------------------------------\n",
            "Downloader> D\n",
            "\n",
            "Download which package (l=list; x=cancel)?\n",
            "  Identifier> stopwords\n",
            "    Downloading package stopwords to /root/nltk_data...\n",
            "      Unzipping corpora/stopwords.zip.\n",
            "\n",
            "---------------------------------------------------------------------------\n",
            "    d) Download   l) List    u) Update   c) Config   h) Help   q) Quit\n",
            "---------------------------------------------------------------------------\n",
            "Downloader> q\n"
          ]
        }
      ]
    },
    {
      "cell_type": "markdown",
      "source": [
        "In the code cell above the stop words were downloaded. "
      ],
      "metadata": {
        "id": "fnatFPR0oMFo"
      }
    },
    {
      "cell_type": "code",
      "metadata": {
        "id": "tTEr6vRUgOUs"
      },
      "source": [
        "#This is a function that takes in a review, makes sure it is only lower case letters and removes stopwords.\n",
        "#It returns the cleaned review text.\n",
        "def clean_review(review):\n",
        "    #input is a string review\n",
        "    #return is review cleaned of all punctuation, lowercase, and removed nltk stopwords\n",
        "    letters_only = re.sub(\"[^a-zA-Z]\",\" \",review)\n",
        "    lower_case = letters_only.lower()\n",
        "    words = lower_case.split()\n",
        "    for stop_word in stopwords.words(\"english\"):\n",
        "        while stop_word in words:\n",
        "            words.remove(stop_word)\n",
        "    cleaned = \" \".join(words)\n",
        "    return cleaned"
      ],
      "execution_count": 9,
      "outputs": []
    },
    {
      "cell_type": "markdown",
      "source": [
        "In the code cell above all of the punctuation and non-letter characters are removed from the reviews. After all of the non-letter characters are removed, all of the letters are converted to lowercase, and the stop words are removed from the reviews.\n"
      ],
      "metadata": {
        "id": "c15TpHrIouzM"
      }
    },
    {
      "cell_type": "code",
      "metadata": {
        "id": "QEjHsILZgk9V"
      },
      "source": [
        "#process the data\n",
        "cleaned_text = []\n",
        "for i in range(len(data)):\n",
        "    cleaned_text.append(clean_review(data[\"review\"][i]))  "
      ],
      "execution_count": 10,
      "outputs": []
    },
    {
      "cell_type": "markdown",
      "source": [
        "The code cell above iterates throught the reviews and applies the function above to them. "
      ],
      "metadata": {
        "id": "hHp0cEbnpSh6"
      }
    },
    {
      "cell_type": "code",
      "metadata": {
        "colab": {
          "base_uri": "https://localhost:8080/"
        },
        "id": "LMg3P0ZNBvGM",
        "outputId": "55d50123-0680-4d22-e8e0-a86a764bdddd"
      },
      "source": [
        "cleaned_text[:5]"
      ],
      "execution_count": 11,
      "outputs": [
        {
          "output_type": "execute_result",
          "data": {
            "text/plain": [
              "['one reviewers mentioned watching oz episode hooked right exactly happened br br first thing struck oz brutality unflinching scenes violence set right word go trust show faint hearted timid show pulls punches regards drugs sex violence hardcore classic use word br br called oz nickname given oswald maximum security state penitentary focuses mainly emerald city experimental section prison cells glass fronts face inwards privacy high agenda em city home many aryans muslims gangstas latinos christians italians irish scuffles death stares dodgy dealings shady agreements never far away br br would say main appeal show due fact goes shows dare forget pretty pictures painted mainstream audiences forget charm forget romance oz mess around first episode ever saw struck nasty surreal say ready watched developed taste oz got accustomed high levels graphic violence violence injustice crooked guards sold nickel inmates kill order get away well mannered middle class inmates turned prison bitches due lack street skills prison experience watching oz may become comfortable uncomfortable viewing thats get touch darker side',\n",
              " 'wonderful little production br br filming technique unassuming old time bbc fashion gives comforting sometimes discomforting sense realism entire piece br br actors extremely well chosen michael sheen got polari voices pat truly see seamless editing guided references williams diary entries well worth watching terrificly written performed piece masterful production one great master comedy life br br realism really comes home little things fantasy guard rather use traditional dream techniques remains solid disappears plays knowledge senses particularly scenes concerning orton halliwell sets particularly flat halliwell murals decorating every surface terribly well done',\n",
              " 'thought wonderful way spend time hot summer weekend sitting air conditioned theater watching light hearted comedy plot simplistic dialogue witty characters likable even well bread suspected serial killer may disappointed realize match point risk addiction thought proof woody allen still fully control style many us grown love br br laughed one woody comedies years dare say decade never impressed scarlet johanson managed tone sexy image jumped right average spirited young woman br br may crown jewel career wittier devil wears prada interesting superman great comedy go see friends',\n",
              " 'basically family little boy jake thinks zombie closet parents fighting time br br movie slower soap opera suddenly jake decides become rambo kill zombie br br ok first going make film must decide thriller drama drama movie watchable parents divorcing arguing like real life jake closet totally ruins film expected see boogeyman similar movie instead watched drama meaningless thriller spots br br well playing parents descent dialogs shots jake ignore',\n",
              " 'petter mattei love time money visually stunning film watch mr mattei offers us vivid portrait human relations movie seems telling us money power success people different situations encounter br br variation arthur schnitzler play theme director transfers action present time new york different characters meet connect one connected one way another next person one seems know previous point contact stylishly film sophisticated luxurious look taken see people live world live habitat br br thing one gets souls picture different stages loneliness one inhabits big city exactly best place human relations find sincere fulfillment one discerns case people encounter br br acting good mr mattei direction steve buscemi rosario dawson carol kane michael imperioli adrian grenier rest talented cast make characters come alive br br wish mr mattei good luck await anxiously next work']"
            ]
          },
          "metadata": {},
          "execution_count": 11
        }
      ]
    },
    {
      "cell_type": "markdown",
      "source": [
        "As shown above, all of the reviews are cleaned and now ready to be split and vectorized. "
      ],
      "metadata": {
        "id": "BNL5uIu8pfdj"
      }
    },
    {
      "cell_type": "code",
      "metadata": {
        "id": "spDgSTvCg9wk"
      },
      "source": [
        "#establish training and testing dataset\n",
        "train_data, test_data, train_sln, test_sln = \\\n",
        "    train_test_split(cleaned_text, data['sentiment'], test_size = 0.2, random_state=0) "
      ],
      "execution_count": 12,
      "outputs": []
    },
    {
      "cell_type": "markdown",
      "source": [
        "This cell splits the data into two sections, with 80% of it being used to train the set and the other 20% being used to test the set. "
      ],
      "metadata": {
        "id": "H3d7MzVNpniX"
      }
    },
    {
      "cell_type": "markdown",
      "source": [
        "# Metrics\n",
        "\n",
        "The metrics used to test the effetiveness of each machine learning model is accuracy, but when doing the principal component analysis the metric used to determine feature importance is variance. "
      ],
      "metadata": {
        "id": "7ZXuMN-Rtsmi"
      }
    },
    {
      "cell_type": "markdown",
      "metadata": {
        "id": "-86AHOAkDpge"
      },
      "source": [
        "### Vectorizing the data\n",
        "\n",
        "**CountVectorizer**: Convert a collection of text documents to a matrix of token counts"
      ]
    },
    {
      "cell_type": "code",
      "metadata": {
        "id": "nwmex98NDgqJ"
      },
      "source": [
        "from sklearn.feature_extraction.text import CountVectorizer \n",
        "\n",
        "#Bag of Words with 5000 most common words\n",
        "vectorizer = CountVectorizer(analyzer='word', max_features = 500)\n",
        "#find the right 5000 words\n",
        "vectorizer.fit(train_data)\n",
        "\n",
        "#use the vectorizer to transform review strings into word count vectors \n",
        "train_data_vectors = vectorizer.transform(train_data).toarray()\n",
        "test_data_vectors = vectorizer.transform(test_data).toarray()"
      ],
      "execution_count": 13,
      "outputs": []
    },
    {
      "cell_type": "markdown",
      "source": [
        "The code above converts each review into a list of numbers so that they can be used in machine learning algorithms. "
      ],
      "metadata": {
        "id": "YGxAzbFprTGY"
      }
    },
    {
      "cell_type": "markdown",
      "source": [
        "# Model Planning \n",
        "\n",
        "I will be using a Support Vector Classifier, Principal Component Analysis,Perceptron, and Multilayer perceptron. For the SVC I will be tuning the C variable. For the PCA I will be creating a graph of the newly transformed data after it has been reduced dimensionally. The Perceptron will be tuned using the eta variable. Finally, the MLP I will be using is____"
      ],
      "metadata": {
        "id": "VL4itkP9vR8N"
      }
    },
    {
      "cell_type": "code",
      "metadata": {
        "id": "uUSQcsLOEAec",
        "colab": {
          "base_uri": "https://localhost:8080/",
          "height": 308
        },
        "outputId": "0fa69d3a-01e2-4bd6-8673-6db31754888a"
      },
      "source": [
        "#Tuned SVC\n",
        "from sklearn import metrics\n",
        "from sklearn.svm import SVC\n",
        "import matplotlib.pyplot as plt\n",
        "%matplotlib inline\n",
        "\n",
        "C_vals = [.05,.1,.5,.75,1,2,5,10,20,50]\n",
        "SVC_acc = []\n",
        "\n",
        "for C in C_vals:\n",
        "  svc = SVC(C=C)\n",
        "  svc.fit(train_data_vectors,train_sln)\n",
        "  svc_predictions = svc.predict(test_data_vectors)\n",
        "  SVC_acc.append(metrics.accuracy_score(test_sln,svc_predictions))\n",
        "\n",
        "\n",
        "plt.suptitle('Sentiment Accuracy',fontsize=18)\n",
        "plt.xlabel('C')\n",
        "plt.ylabel('Accuracy')\n",
        "plt.plot(C_vals,SVC_acc,'ro-',label='C')\n",
        "plt.legend(loc='lower left', shadow=True)\n",
        "plt.axis([0,50,.5,1])\n",
        "\n",
        "plt.show()"
      ],
      "execution_count": 17,
      "outputs": [
        {
          "output_type": "display_data",
          "data": {
            "image/png": "[encoded data removed]",
            "text/plain": [
              "<Figure size 432x288 with 1 Axes>"
            ]
          },
          "metadata": {
            "needs_background": "light"
          }
        }
      ]
    },
    {
      "cell_type": "markdown",
      "source": [
        "The support vector classifier predicted the sentiment of a review correctly about 83% of the time. The best C value for the support vectore classifier is 2. "
      ],
      "metadata": {
        "id": "gMzarA6Ih6_0"
      }
    },
    {
      "cell_type": "code",
      "source": [
        "#Principal Component Analysis\n",
        "from sklearn.decomposition import PCA\n",
        "from sklearn.metrics import accuracy_score\n",
        "import matplotlib.pyplot as plt\n",
        "%matplotlib inline\n",
        "\n",
        "#whiten = True is important for uncorrelated\n",
        "#attributes, and is False by default\n",
        "extractor = PCA(n_components=3, whiten=True)\n",
        "#When fitting with PCA, you do not use the target column - this is an unsupervised learning algorithm\n",
        "extractor.fit(train_data_vectors)\n",
        "\n",
        "print('this is the variance/importance of each component')\n",
        "print(extractor.explained_variance_ratio_)\n",
        "\n",
        "#transform data\n",
        "train_transformed = extractor.transform(train_data_vectors)\n",
        "test_transformed = extractor.transform(test_data_vectors)\n",
        "\n",
        "#visualizing the new axes\n",
        "#PCA gives it back as numpy array\n",
        "tdf = pandas.DataFrame(train_transformed)\n",
        "#next line: probably not the best way\n",
        "tdf['sentiment'] = pandas.Series(list(train_sln)) \n",
        "\n",
        "\n",
        "positive_series = tdf[ tdf['sentiment'] == 'positive' ]\n",
        "negative_series = tdf[ tdf['sentiment'] == 'negative' ]\n",
        "\n",
        "plt.plot(positive_series[0],positive_series[1],'g^',label='positive')\n",
        "plt.plot(negative_series[0],negative_series[1],'ro',label='negative')\n",
        "plt.legend(loc='upper center')\n",
        "plt.show()"
      ],
      "metadata": {
        "colab": {
          "base_uri": "https://localhost:8080/",
          "height": 303
        },
        "id": "FzDJt68jKJ6Q",
        "outputId": "262ef433-699b-41a0-e94f-4077d9957f09"
      },
      "execution_count": 23,
      "outputs": [
        {
          "output_type": "stream",
          "name": "stdout",
          "text": [
            "this is the variance/importance of each component\n",
            "[0.27172574 0.05478849 0.04816953]\n"
          ]
        },
        {
          "output_type": "display_data",
          "data": {
            "image/png": "[encoded data removed]",
            "text/plain": [
              "<Figure size 432x288 with 1 Axes>"
            ]
          },
          "metadata": {
            "needs_background": "light"
          }
        }
      ]
    },
    {
      "cell_type": "markdown",
      "source": [
        "The greatest importance for any component was .27 which is not a very large number which means that the data is not easily separable and there is not an overly important feature in the reviews. "
      ],
      "metadata": {
        "id": "Y3V3wKfLyxKL"
      }
    },
    {
      "cell_type": "code",
      "source": [
        "#Perceptron\n",
        "from sklearn.linear_model import Perceptron\n",
        "from sklearn import metrics\n",
        "\n",
        "#ignore warings -- there are lots of warnings regarding default values of Perceptron; which we accept\n",
        "import warnings\n",
        "warnings.filterwarnings(\"ignore\")\n",
        "\n",
        "eta_vals = [.05,.1,.5,.75,1,2,5,10,20,50]\n",
        "perc_acc = []\n",
        "\n",
        "for eta in eta_vals:\n",
        "  perc = Perceptron()\n",
        "  perc.fit(train_data_vectors,train_sln)\n",
        "  sentiment_perc_predictions = perc.predict(test_data_vectors)\n",
        "  perc_acc.append(metrics.accuracy_score(test_sln, sentiment_perc_predictions))\n",
        "\n",
        "\n",
        "plt.suptitle('Sentiment Accuracy',fontsize=18)\n",
        "plt.xlabel('eta')\n",
        "plt.ylabel('Accuracy')\n",
        "plt.plot(eta_vals,perc_acc,'ro-',label='eta')\n",
        "plt.legend(loc='lower left', shadow=True)\n",
        "plt.axis([0,50,.5,1])\n",
        "\n",
        "plt.show()\n"
      ],
      "metadata": {
        "colab": {
          "base_uri": "https://localhost:8080/",
          "height": 308
        },
        "id": "8XlBPLGPN5qz",
        "outputId": "1197014e-74dc-4e69-a674-1b7bd581ed85"
      },
      "execution_count": 25,
      "outputs": [
        {
          "output_type": "display_data",
          "data": {
            "image/png": "[encoded data removed]",
            "text/plain": [
              "<Figure size 432x288 with 1 Axes>"
            ]
          },
          "metadata": {
            "needs_background": "light"
          }
        }
      ]
    },
    {
      "cell_type": "markdown",
      "source": [
        "The tuning of the eta parameter did not seem to affect the accuracy of the perceptron machine learning model. The accuracy of this model was slightly less than that of the SVC. The accuracy seems to be about 79%.  "
      ],
      "metadata": {
        "id": "mUrFpj_nzwYv"
      }
    },
    {
      "cell_type": "code",
      "source": [
        "#Multilayer Perceptron\n",
        "from sklearn.neural_network import MLPClassifier\n",
        "\n",
        "#ignore warings -- there are lots of warnings regarding default values of Perceptron; which we accept\n",
        "import warnings\n",
        "warnings.filterwarnings(\"ignore\")\n",
        "\n",
        "layer_vals = [50,100,200,300,400,500,1000]\n",
        "mlp_acc = []\n",
        "\n",
        "for layer in layer_vals:\n",
        "  mlp = MLPClassifier(hidden_layer_sizes=layer)\n",
        "  mlp.fit(train_data_vectors,train_sln)\n",
        "  sentiment_mlp_predictions = mlp.predict(test_data_vectors)\n",
        "  mlp_acc.append(metrics.accuracy_score(test_sln, sentiment_mlp_predictions))\n",
        "\n",
        "\n",
        "plt.suptitle('Sentiment Accuracy',fontsize=18)\n",
        "plt.xlabel('Size of Hidden Layers')\n",
        "plt.ylabel('Accuracy')\n",
        "plt.plot(layer_vals,mlp_acc,'ro-',label='Layer size')\n",
        "plt.legend(loc='lower left', shadow=True)\n",
        "plt.axis([0,1000,.5,1])\n",
        "\n",
        "plt.show()"
      ],
      "metadata": {
        "colab": {
          "base_uri": "https://localhost:8080/",
          "height": 308
        },
        "id": "1AocGSVPN7gb",
        "outputId": "7540b719-efa0-4e42-94a1-1f15c0a5ee81"
      },
      "execution_count": 29,
      "outputs": [
        {
          "output_type": "display_data",
          "data": {
            "image/png": "[encoded data removed]",
            "text/plain": [
              "<Figure size 432x288 with 1 Axes>"
            ]
          },
          "metadata": {
            "needs_background": "light"
          }
        }
      ]
    },
    {
      "cell_type": "markdown",
      "source": [
        "The multilayer perceptron performed very well especially when the size of the hidden layers was increased. The accuracy reaching points around 84% is about the same as the SVC. "
      ],
      "metadata": {
        "id": "hvc2V3amrNOR"
      }
    },
    {
      "cell_type": "markdown",
      "source": [
        "# Bumps in the Road\n",
        "\n",
        "One of the most difficult parts of this project is interpreting results and knowing what the code is doing. The conceptual piece of each machine learning algorithm is understood, but determining how to achieve different things in the code is the difficult part. Doing this with the PCA is the most difficult for me because the code format is different from the other machine learning algorithms. "
      ],
      "metadata": {
        "id": "EEpZ8S2swTKa"
      }
    },
    {
      "cell_type": "markdown",
      "source": [
        "# Conclusion\n",
        "\n",
        "For this experiment the SVC and multilayer perceptron performed the best when tuned. I think that it is difficult to interpret the higher level machine learning models. The perceptron didnt work particularly well. I think this is becasue the perceptron is the simplest of the machine learning algorithms. I think that the Multilayer perceptron is the best algorithm because it is most similar to how a person understands and interprets language. "
      ],
      "metadata": {
        "id": "J8k8H2rJrlM4"
      }
    }
  ]
}